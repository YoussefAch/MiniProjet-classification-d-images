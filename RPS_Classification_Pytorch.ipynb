{
 "cells": [
  {
   "cell_type": "markdown",
   "metadata": {},
   "source": [
    "# Rock-Paper-Scissors (RPS) classification using PyTorch\n",
    "\n",
    "\n",
    "Authors : \n",
    "- Youssef Achenchabe\n",
    "- Mehdi Ghouwati Badreddine\n",
    "\n",
    "\n",
    "In this notebook we will try to classify the RPS dataset. (https://github.com/YoussefAch/RPS-classification-using-PyTorch) using a fully connected neural network. This notebook is inspired from the MNIST example from PyTorch (https://github.com/pytorch/examples/tree/master/mnist).\n",
    "\n",
    "## RPS dataset\n",
    "\n",
    "We have created this 3 class dataset in a group of 28 M2 students at ENSEEIHT, it contains 70 images (32 x 32) per class. We know that the number of images in this dataset is too slow to train a neural network. The main objective of this notebook is to prototype and start getting hands dirty with pytorch.\n",
    "\n",
    "![RPS_dataset](RPS-dataset.jpg)"
   ]
  },
  {
   "cell_type": "markdown",
   "metadata": {},
   "source": [
    "#### let's import some libraries first"
   ]
  },
  {
   "cell_type": "code",
   "execution_count": 1,
   "metadata": {},
   "outputs": [],
   "source": [
    "import numpy\n",
    "import numpy as np\n",
    "import torch\n",
    "import torch.nn as nn\n",
    "import torch.nn.functional as F\n",
    "import torch.utils.data.dataloader as dataloader\n",
    "import torch.optim as optim\n",
    "\n",
    "import PIL\n",
    "from torch.utils.data.dataset import Dataset\n",
    "from torch.utils.data import TensorDataset\n",
    "from torch.autograd import Variable\n",
    "from torchvision import transforms\n",
    "from torchvision import datasets\n",
    "from torchvision.datasets import MNIST\n",
    "import matplotlib.pyplot as plt"
   ]
  },
  {
   "cell_type": "markdown",
   "metadata": {},
   "source": [
    "#### For reproducibility"
   ]
  },
  {
   "cell_type": "code",
   "execution_count": 2,
   "metadata": {},
   "outputs": [
    {
     "data": {
      "text/plain": [
       "<torch._C.Generator at 0x7fa9c63b9f70>"
      ]
     },
     "execution_count": 2,
     "metadata": {},
     "output_type": "execute_result"
    }
   ],
   "source": [
    "SEED = 1\n",
    "torch.manual_seed(SEED)"
   ]
  },
  {
   "cell_type": "markdown",
   "metadata": {},
   "source": [
    "#### Define the transformations on the images : Rotation and Grayscale tranform"
   ]
  },
  {
   "cell_type": "code",
   "execution_count": 19,
   "metadata": {},
   "outputs": [],
   "source": [
    "imageTransformation = transforms.Compose([transforms.Grayscale(),\n",
    "                                          transforms.RandomHorizontalFlip(),\n",
    "                                          transforms.RandomRotation(30, resample=PIL.Image.BILINEAR),transforms.ToTensor(),\n",
    "                                          transforms.Normalize(mean=torch.tensor(0.4635).view(1, -1),\n",
    "                                                            std=torch.tensor(0.2200).view(1, -1))])"
   ]
  },
  {
   "cell_type": "markdown",
   "metadata": {},
   "source": [
    "#### Load the dataset and apply the transformations"
   ]
  },
  {
   "cell_type": "code",
   "execution_count": 20,
   "metadata": {},
   "outputs": [],
   "source": [
    "imagesData = datasets.ImageFolder('PPC/.',imageTransformation)"
   ]
  },
  {
   "cell_type": "markdown",
   "metadata": {},
   "source": [
    "#### Split the dataset into train and test (80%, 20%)"
   ]
  },
  {
   "cell_type": "code",
   "execution_count": 21,
   "metadata": {},
   "outputs": [],
   "source": [
    "nbTrain = int(0.8*len(imagesData))\n",
    "nbTest = len(imagesData) - nbTrain\n",
    "train_data, test_data = torch.utils.data.random_split(imagesData, [nbTrain, nbTest])"
   ]
  },
  {
   "cell_type": "markdown",
   "metadata": {},
   "source": [
    "#### Create dataloaders and iterator "
   ]
  },
  {
   "cell_type": "code",
   "execution_count": 22,
   "metadata": {},
   "outputs": [],
   "source": [
    "batch = int(nbTrain/6)\n",
    "dataloader_args_train = dict(shuffle=True, batch_size=batch,num_workers=4, pin_memory=True)\n",
    "dataloader_args_test = dict(shuffle=True, batch_size=nbTest,num_workers=4, pin_memory=True)\n",
    "train_loader = dataloader.DataLoader(train_data, **dataloader_args_train)\n",
    "test_loader = dataloader.DataLoader(test_data, **dataloader_args_test)\n",
    "iterator = iter(test_loader)\n",
    "img, lb = iterator.next()"
   ]
  },
  {
   "cell_type": "markdown",
   "metadata": {},
   "source": [
    "#### Compute the mean and the stadard deviation of the images"
   ]
  },
  {
   "cell_type": "code",
   "execution_count": 23,
   "metadata": {},
   "outputs": [],
   "source": [
    "n_samples_seen = 0.\n",
    "mean = 0\n",
    "std = 0\n",
    "for train_batch, train_target in train_loader:\n",
    "    batch_size = train_batch.shape[0]\n",
    "    train_batch = train_batch.view(batch_size, -1)\n",
    "    this_mean = torch.mean(train_batch, dim=1)\n",
    "    this_std = torch.sqrt(\n",
    "        torch.mean((train_batch - this_mean[:, None]) ** 2, dim=1))\n",
    "    mean += torch.sum(this_mean, dim=0)\n",
    "    std += torch.sum(this_std, dim=0)\n",
    "    n_samples_seen += batch_size\n",
    "\n",
    "mean /= n_samples_seen\n",
    "std /= n_samples_seen"
   ]
  },
  {
   "cell_type": "markdown",
   "metadata": {},
   "source": [
    "#### Define the model (fully connected neural network with two hidden layers)"
   ]
  },
  {
   "cell_type": "code",
   "execution_count": 24,
   "metadata": {},
   "outputs": [],
   "source": [
    "class Model(nn.Module):\n",
    "    def __init__(self):\n",
    "        super(Model, self).__init__()\n",
    "        self.fc = nn.Linear(1024, 20)\n",
    "        self.fc1 = nn.Linear(20, 40)\n",
    "        self.fc2 = nn.Linear(40, 3)\n",
    "\n",
    "    def forward(self, x):\n",
    "        x = x.view((-1, 1024))\n",
    "        h = F.relu(self.fc(x))\n",
    "        h = self.fc1(h)\n",
    "        h = F.relu(h)\n",
    "        h = self.fc2(h)\n",
    "        return F.log_softmax(h, dim=0) "
   ]
  },
  {
   "cell_type": "markdown",
   "metadata": {},
   "source": [
    "#### Initialize the model and the optimizer"
   ]
  },
  {
   "cell_type": "code",
   "execution_count": 25,
   "metadata": {},
   "outputs": [],
   "source": [
    "model = Model()\n",
    "optimizer = optim.Adam(model.parameters(), lr=1e-3)"
   ]
  },
  {
   "cell_type": "markdown",
   "metadata": {},
   "source": [
    "#### Set the parameters of the training "
   ]
  },
  {
   "cell_type": "code",
   "execution_count": 26,
   "metadata": {},
   "outputs": [],
   "source": [
    "EPOCHS = 100\n",
    "losses = []"
   ]
  },
  {
   "cell_type": "markdown",
   "metadata": {},
   "source": [
    "#### Train the neural network"
   ]
  },
  {
   "cell_type": "code",
   "execution_count": 28,
   "metadata": {},
   "outputs": [
    {
     "name": "stdout",
     "output_type": "stream",
     "text": [
      " Train Epoch: 1/100 [161/161 (23%)]\tLoss: 1.103318\t Test Accuracy: 34.1463%\n",
      " Train Epoch: 2/100 [161/161 (23%)]\tLoss: 1.071839\t Test Accuracy: 48.7805%\n",
      " Train Epoch: 3/100 [161/161 (23%)]\tLoss: 1.056955\t Test Accuracy: 39.0244%\n",
      " Train Epoch: 4/100 [161/161 (23%)]\tLoss: 1.065645\t Test Accuracy: 39.0244%\n",
      " Train Epoch: 5/100 [161/161 (23%)]\tLoss: 0.977084\t Test Accuracy: 43.9024%\n",
      " Train Epoch: 6/100 [161/161 (23%)]\tLoss: 1.067446\t Test Accuracy: 41.4634%\n",
      " Train Epoch: 7/100 [161/161 (23%)]\tLoss: 1.156487\t Test Accuracy: 43.9024%\n",
      " Train Epoch: 8/100 [161/161 (23%)]\tLoss: 1.194788\t Test Accuracy: 31.7073%\n",
      " Train Epoch: 9/100 [161/161 (23%)]\tLoss: 0.982926\t Test Accuracy: 39.0244%\n",
      " Train Epoch: 10/100 [161/161 (23%)]\tLoss: 1.196486\t Test Accuracy: 46.3415%\n",
      " Train Epoch: 11/100 [161/161 (23%)]\tLoss: 1.027245\t Test Accuracy: 29.2683%\n",
      " Train Epoch: 12/100 [161/161 (23%)]\tLoss: 0.842673\t Test Accuracy: 26.8293%\n",
      " Train Epoch: 13/100 [161/161 (23%)]\tLoss: 0.954529\t Test Accuracy: 34.1463%\n",
      " Train Epoch: 14/100 [161/161 (23%)]\tLoss: 0.918832\t Test Accuracy: 31.7073%\n",
      " Train Epoch: 15/100 [161/161 (23%)]\tLoss: 1.084063\t Test Accuracy: 34.1463%\n",
      " Train Epoch: 16/100 [161/161 (23%)]\tLoss: 1.145311\t Test Accuracy: 31.7073%\n",
      " Train Epoch: 17/100 [161/161 (23%)]\tLoss: 0.975790\t Test Accuracy: 29.2683%\n",
      " Train Epoch: 18/100 [161/161 (23%)]\tLoss: 1.067998\t Test Accuracy: 31.7073%\n",
      " Train Epoch: 19/100 [161/161 (23%)]\tLoss: 1.080970\t Test Accuracy: 34.1463%\n",
      " Train Epoch: 20/100 [161/161 (23%)]\tLoss: 0.852558\t Test Accuracy: 34.1463%\n",
      " Train Epoch: 21/100 [161/161 (23%)]\tLoss: 1.090523\t Test Accuracy: 31.7073%\n",
      " Train Epoch: 22/100 [161/161 (23%)]\tLoss: 0.713854\t Test Accuracy: 31.7073%\n",
      " Train Epoch: 23/100 [161/161 (23%)]\tLoss: 1.023065\t Test Accuracy: 31.7073%\n",
      " Train Epoch: 24/100 [161/161 (23%)]\tLoss: 0.612203\t Test Accuracy: 41.4634%\n",
      " Train Epoch: 25/100 [161/161 (23%)]\tLoss: 0.916532\t Test Accuracy: 39.0244%\n",
      " Train Epoch: 26/100 [161/161 (23%)]\tLoss: 0.918775\t Test Accuracy: 31.7073%\n",
      " Train Epoch: 27/100 [161/161 (23%)]\tLoss: 0.574413\t Test Accuracy: 29.2683%\n",
      " Train Epoch: 28/100 [161/161 (23%)]\tLoss: 1.127187\t Test Accuracy: 31.7073%\n",
      " Train Epoch: 29/100 [161/161 (23%)]\tLoss: 1.153329\t Test Accuracy: 31.7073%\n",
      " Train Epoch: 30/100 [161/161 (23%)]\tLoss: 0.982961\t Test Accuracy: 29.2683%\n",
      " Train Epoch: 31/100 [161/161 (23%)]\tLoss: 0.910231\t Test Accuracy: 36.5854%\n",
      " Train Epoch: 32/100 [161/161 (23%)]\tLoss: 1.149682\t Test Accuracy: 31.7073%\n",
      " Train Epoch: 33/100 [161/161 (23%)]\tLoss: 0.947145\t Test Accuracy: 34.1463%\n",
      " Train Epoch: 34/100 [161/161 (23%)]\tLoss: 0.846013\t Test Accuracy: 39.0244%\n",
      " Train Epoch: 35/100 [161/161 (23%)]\tLoss: 0.868314\t Test Accuracy: 36.5854%\n",
      " Train Epoch: 36/100 [161/161 (23%)]\tLoss: 0.536449\t Test Accuracy: 39.0244%\n",
      " Train Epoch: 37/100 [161/161 (23%)]\tLoss: 0.967010\t Test Accuracy: 34.1463%\n",
      " Train Epoch: 38/100 [161/161 (23%)]\tLoss: 0.830444\t Test Accuracy: 39.0244%\n",
      " Train Epoch: 39/100 [161/161 (23%)]\tLoss: 0.701091\t Test Accuracy: 48.7805%\n",
      " Train Epoch: 40/100 [161/161 (23%)]\tLoss: 0.751539\t Test Accuracy: 43.9024%\n",
      " Train Epoch: 41/100 [161/161 (23%)]\tLoss: 1.132394\t Test Accuracy: 43.9024%\n",
      " Train Epoch: 42/100 [161/161 (23%)]\tLoss: 0.991144\t Test Accuracy: 39.0244%\n",
      " Train Epoch: 43/100 [161/161 (23%)]\tLoss: 1.017652\t Test Accuracy: 41.4634%\n",
      " Train Epoch: 44/100 [161/161 (23%)]\tLoss: 0.765310\t Test Accuracy: 34.1463%\n",
      " Train Epoch: 45/100 [161/161 (23%)]\tLoss: 0.635889\t Test Accuracy: 36.5854%\n",
      " Train Epoch: 46/100 [161/161 (23%)]\tLoss: 0.938627\t Test Accuracy: 43.9024%\n",
      " Train Epoch: 47/100 [161/161 (23%)]\tLoss: 0.677943\t Test Accuracy: 34.1463%\n",
      " Train Epoch: 48/100 [161/161 (23%)]\tLoss: 1.090059\t Test Accuracy: 34.1463%\n",
      " Train Epoch: 49/100 [161/161 (23%)]\tLoss: 0.961376\t Test Accuracy: 34.1463%\n",
      " Train Epoch: 50/100 [161/161 (23%)]\tLoss: 1.183675\t Test Accuracy: 34.1463%\n",
      " Train Epoch: 51/100 [161/161 (23%)]\tLoss: 0.814871\t Test Accuracy: 34.1463%\n",
      " Train Epoch: 52/100 [161/161 (23%)]\tLoss: 0.931112\t Test Accuracy: 41.4634%\n",
      " Train Epoch: 53/100 [161/161 (23%)]\tLoss: 1.060722\t Test Accuracy: 46.3415%\n",
      " Train Epoch: 54/100 [161/161 (23%)]\tLoss: 1.006068\t Test Accuracy: 39.0244%\n",
      " Train Epoch: 55/100 [161/161 (23%)]\tLoss: 0.773422\t Test Accuracy: 31.7073%\n",
      " Train Epoch: 56/100 [161/161 (23%)]\tLoss: 1.354872\t Test Accuracy: 39.0244%\n",
      " Train Epoch: 57/100 [161/161 (23%)]\tLoss: 1.096210\t Test Accuracy: 31.7073%\n",
      " Train Epoch: 58/100 [161/161 (23%)]\tLoss: 1.095950\t Test Accuracy: 26.8293%\n",
      " Train Epoch: 59/100 [161/161 (23%)]\tLoss: 0.607581\t Test Accuracy: 36.5854%\n",
      " Train Epoch: 60/100 [161/161 (23%)]\tLoss: 0.760514\t Test Accuracy: 41.4634%\n",
      " Train Epoch: 61/100 [161/161 (23%)]\tLoss: 0.965218\t Test Accuracy: 41.4634%\n",
      " Train Epoch: 62/100 [161/161 (23%)]\tLoss: 0.414859\t Test Accuracy: 43.9024%\n",
      " Train Epoch: 63/100 [161/161 (23%)]\tLoss: 1.493453\t Test Accuracy: 48.7805%\n",
      " Train Epoch: 64/100 [161/161 (23%)]\tLoss: 0.646241\t Test Accuracy: 29.2683%\n",
      " Train Epoch: 65/100 [161/161 (23%)]\tLoss: 0.743087\t Test Accuracy: 36.5854%\n",
      " Train Epoch: 66/100 [161/161 (23%)]\tLoss: 0.588587\t Test Accuracy: 46.3415%\n",
      " Train Epoch: 67/100 [161/161 (23%)]\tLoss: 0.830646\t Test Accuracy: 51.2195%\n",
      " Train Epoch: 68/100 [161/161 (23%)]\tLoss: 0.507292\t Test Accuracy: 51.2195%\n",
      " Train Epoch: 69/100 [161/161 (23%)]\tLoss: 0.621400\t Test Accuracy: 48.7805%\n",
      " Train Epoch: 70/100 [161/161 (23%)]\tLoss: 0.861267\t Test Accuracy: 39.0244%\n",
      " Train Epoch: 71/100 [161/161 (23%)]\tLoss: 0.597744\t Test Accuracy: 51.2195%\n",
      " Train Epoch: 72/100 [161/161 (23%)]\tLoss: 0.899481\t Test Accuracy: 58.5366%\n",
      " Train Epoch: 73/100 [161/161 (23%)]\tLoss: 0.759269\t Test Accuracy: 48.7805%\n",
      " Train Epoch: 74/100 [161/161 (23%)]\tLoss: 0.555977\t Test Accuracy: 51.2195%\n",
      " Train Epoch: 75/100 [161/161 (23%)]\tLoss: 0.588789\t Test Accuracy: 53.6585%\n",
      " Train Epoch: 76/100 [161/161 (23%)]\tLoss: 0.723840\t Test Accuracy: 51.2195%\n",
      " Train Epoch: 77/100 [161/161 (23%)]\tLoss: 1.093966\t Test Accuracy: 53.6585%\n",
      " Train Epoch: 78/100 [161/161 (23%)]\tLoss: 1.421612\t Test Accuracy: 51.2195%\n",
      " Train Epoch: 79/100 [161/161 (23%)]\tLoss: 0.824884\t Test Accuracy: 53.6585%\n",
      " Train Epoch: 80/100 [161/161 (23%)]\tLoss: 0.699869\t Test Accuracy: 46.3415%\n",
      " Train Epoch: 81/100 [161/161 (23%)]\tLoss: 0.499959\t Test Accuracy: 43.9024%\n",
      " Train Epoch: 82/100 [161/161 (23%)]\tLoss: 0.848568\t Test Accuracy: 43.9024%\n",
      " Train Epoch: 83/100 [161/161 (23%)]\tLoss: 0.770419\t Test Accuracy: 51.2195%\n",
      " Train Epoch: 84/100 [161/161 (23%)]\tLoss: 0.573445\t Test Accuracy: 48.7805%\n",
      " Train Epoch: 85/100 [161/161 (23%)]\tLoss: 0.769296\t Test Accuracy: 46.3415%\n",
      " Train Epoch: 86/100 [161/161 (23%)]\tLoss: 0.894632\t Test Accuracy: 58.5366%\n",
      " Train Epoch: 87/100 [161/161 (23%)]\tLoss: 0.697446\t Test Accuracy: 51.2195%\n",
      " Train Epoch: 88/100 [161/161 (23%)]\tLoss: 0.639645\t Test Accuracy: 56.0976%\n",
      " Train Epoch: 89/100 [161/161 (23%)]\tLoss: 0.622699\t Test Accuracy: 48.7805%\n",
      " Train Epoch: 90/100 [161/161 (23%)]\tLoss: 0.833772\t Test Accuracy: 36.5854%\n",
      " Train Epoch: 91/100 [161/161 (23%)]\tLoss: 0.818403\t Test Accuracy: 36.5854%\n",
      " Train Epoch: 92/100 [161/161 (23%)]\tLoss: 0.395956\t Test Accuracy: 43.9024%\n",
      " Train Epoch: 93/100 [161/161 (23%)]\tLoss: 0.814989\t Test Accuracy: 41.4634%\n",
      " Train Epoch: 94/100 [161/161 (23%)]\tLoss: 0.524944\t Test Accuracy: 53.6585%\n",
      " Train Epoch: 95/100 [161/161 (23%)]\tLoss: 0.581320\t Test Accuracy: 53.6585%\n",
      " Train Epoch: 96/100 [161/161 (23%)]\tLoss: 1.231633\t Test Accuracy: 43.9024%\n",
      " Train Epoch: 97/100 [161/161 (23%)]\tLoss: 0.768421\t Test Accuracy: 46.3415%\n",
      " Train Epoch: 98/100 [161/161 (23%)]\tLoss: 0.381561\t Test Accuracy: 46.3415%\n",
      " Train Epoch: 99/100 [161/161 (23%)]\tLoss: 0.388825\t Test Accuracy: 46.3415%\n",
      " Train Epoch: 100/100 [161/161 (23%)]\tLoss: 1.217011\t Test Accuracy: 46.3415%\n"
     ]
    }
   ],
   "source": [
    "model.train()\n",
    "for epoch in range(EPOCHS):\n",
    "    for batch_idx, (data, target) in enumerate(train_loader):\n",
    "        # Get Samples\n",
    "        data, target = Variable(data), Variable(target)\n",
    "        \n",
    "\n",
    "        # Init\n",
    "        optimizer.zero_grad()\n",
    "        # Predict\n",
    "        y_pred = model(data) \n",
    "\n",
    "         \n",
    "        loss = F.cross_entropy(y_pred, target)\n",
    "        losses.append(loss.cpu().item())\n",
    "        \n",
    "        \n",
    "        # Backpropagation\n",
    "        loss.backward()\n",
    "        optimizer.step()\n",
    "        \n",
    "        \n",
    "        # Display\n",
    "        if batch_idx % batch == 1:\n",
    "            print('\\r Train Epoch: {}/{} [{}/{} ({:.0f}%)]\\tLoss: {:.6f}'.format(\n",
    "                epoch+1,\n",
    "                EPOCHS,\n",
    "                batch_idx * len(data), \n",
    "                nbTrain,\n",
    "                100. * batch_idx / batch, \n",
    "                loss.cpu().item()), \n",
    "                end='')\n",
    "            \n",
    "    # display final evaluation for this epoch\n",
    "    model.eval()\n",
    "    output = model(img)\n",
    "    pred = output.data.max(1)[1]\n",
    "    d = pred.eq(lb.data).cpu()\n",
    "    accuracy = d.sum().item()/d.size()[0]\n",
    "    \n",
    "    print('\\r Train Epoch: {}/{} [{}/{} ({:.0f}%)]\\tLoss: {:.6f}\\t Test Accuracy: {:.4f}%'.format(\n",
    "        epoch+1,\n",
    "        EPOCHS,\n",
    "        nbTrain, \n",
    "        nbTrain,\n",
    "        100. * batch_idx / batch, \n",
    "        loss.cpu().item(),\n",
    "        accuracy*100,\n",
    "        end=''))"
   ]
  },
  {
   "cell_type": "code",
   "execution_count": 29,
   "metadata": {},
   "outputs": [
    {
     "data": {
      "text/plain": [
       "[<matplotlib.lines.Line2D at 0x7fa984249a58>]"
      ]
     },
     "execution_count": 29,
     "metadata": {},
     "output_type": "execute_result"
    },
    {
     "data": {
      "image/png": "[encoded data removed]",
      "text/plain": [
       "<matplotlib.figure.Figure at 0x7fa9878f3d30>"
      ]
     },
     "metadata": {},
     "output_type": "display_data"
    }
   ],
   "source": [
    "plt.plot(losses)"
   ]
  },
  {
   "cell_type": "markdown",
   "metadata": {},
   "source": [
    "## The normalization of the images has improved the result and the convergence of our neural network "
   ]
  },
  {
   "cell_type": "code",
   "execution_count": null,
   "metadata": {},
   "outputs": [],
   "source": []
  }
 ],
 "metadata": {
  "kernelspec": {
   "display_name": "Python 3",
   "language": "python",
   "name": "python3"
  },
  "language_info": {
   "codemirror_mode": {
    "name": "ipython",
    "version": 3
   },
   "file_extension": ".py",
   "mimetype": "text/x-python",
   "name": "python",
   "nbconvert_exporter": "python",
   "pygments_lexer": "ipython3",
   "version": "3.6.4"
  }
 },
 "nbformat": 4,
 "nbformat_minor": 2
}
